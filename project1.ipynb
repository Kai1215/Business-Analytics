{
 "cells": [
  {
   "cell_type": "code",
   "execution_count": 4,
   "id": "2752d797-e275-4cb5-8acc-52955ae65d48",
   "metadata": {},
   "outputs": [],
   "source": [
    "import pandas as pd\n",
    "import numpy as np\n",
    "import seaborn as sns\n",
    "import os\n",
    "import matplotlib.pyplot as plt\n",
    "import phik\n",
    "from IPython.display import Markdown as md"
   ]
  },
  {
   "cell_type": "code",
   "execution_count": 5,
   "id": "b4503983-2237-4544-a969-f5722420e33d",
   "metadata": {},
   "outputs": [
    {
     "data": {
      "text/html": [
       "<div>\n",
       "<style scoped>\n",
       "    .dataframe tbody tr th:only-of-type {\n",
       "        vertical-align: middle;\n",
       "    }\n",
       "\n",
       "    .dataframe tbody tr th {\n",
       "        vertical-align: top;\n",
       "    }\n",
       "\n",
       "    .dataframe thead th {\n",
       "        text-align: right;\n",
       "    }\n",
       "</style>\n",
       "<table border=\"1\" class=\"dataframe\">\n",
       "  <thead>\n",
       "    <tr style=\"text-align: right;\">\n",
       "      <th></th>\n",
       "      <th>CRASH DATE_CRASH TIME</th>\n",
       "      <th>BOROUGH</th>\n",
       "      <th>ZIP CODE</th>\n",
       "      <th>LATITUDE</th>\n",
       "      <th>LONGITUDE</th>\n",
       "      <th>LOCATION</th>\n",
       "      <th>ON STREET NAME</th>\n",
       "      <th>CROSS STREET NAME</th>\n",
       "      <th>OFF STREET NAME</th>\n",
       "      <th>NUMBER OF PERSONS INJURED</th>\n",
       "      <th>...</th>\n",
       "      <th>CONTRIBUTING FACTOR VEHICLE 2</th>\n",
       "      <th>CONTRIBUTING FACTOR VEHICLE 3</th>\n",
       "      <th>CONTRIBUTING FACTOR VEHICLE 4</th>\n",
       "      <th>CONTRIBUTING FACTOR VEHICLE 5</th>\n",
       "      <th>COLLISION_ID</th>\n",
       "      <th>VEHICLE TYPE CODE 1</th>\n",
       "      <th>VEHICLE TYPE CODE 2</th>\n",
       "      <th>VEHICLE TYPE CODE 3</th>\n",
       "      <th>VEHICLE TYPE CODE 4</th>\n",
       "      <th>VEHICLE TYPE CODE 5</th>\n",
       "    </tr>\n",
       "  </thead>\n",
       "  <tbody>\n",
       "    <tr>\n",
       "      <th>0</th>\n",
       "      <td>2021-09-11 02:39:00</td>\n",
       "      <td>NaN</td>\n",
       "      <td>NaN</td>\n",
       "      <td>NaN</td>\n",
       "      <td>NaN</td>\n",
       "      <td>NaN</td>\n",
       "      <td>WHITESTONE EXPRESSWAY</td>\n",
       "      <td>20 AVENUE</td>\n",
       "      <td>NaN</td>\n",
       "      <td>2.0</td>\n",
       "      <td>...</td>\n",
       "      <td>Unspecified</td>\n",
       "      <td>NaN</td>\n",
       "      <td>NaN</td>\n",
       "      <td>NaN</td>\n",
       "      <td>4455765</td>\n",
       "      <td>Sedan</td>\n",
       "      <td>Sedan</td>\n",
       "      <td>NaN</td>\n",
       "      <td>NaN</td>\n",
       "      <td>NaN</td>\n",
       "    </tr>\n",
       "    <tr>\n",
       "      <th>1</th>\n",
       "      <td>2022-03-26 11:45:00</td>\n",
       "      <td>NaN</td>\n",
       "      <td>NaN</td>\n",
       "      <td>NaN</td>\n",
       "      <td>NaN</td>\n",
       "      <td>NaN</td>\n",
       "      <td>QUEENSBORO BRIDGE UPPER</td>\n",
       "      <td>NaN</td>\n",
       "      <td>NaN</td>\n",
       "      <td>1.0</td>\n",
       "      <td>...</td>\n",
       "      <td>NaN</td>\n",
       "      <td>NaN</td>\n",
       "      <td>NaN</td>\n",
       "      <td>NaN</td>\n",
       "      <td>4513547</td>\n",
       "      <td>Sedan</td>\n",
       "      <td>NaN</td>\n",
       "      <td>NaN</td>\n",
       "      <td>NaN</td>\n",
       "      <td>NaN</td>\n",
       "    </tr>\n",
       "    <tr>\n",
       "      <th>2</th>\n",
       "      <td>2022-06-29 06:55:00</td>\n",
       "      <td>NaN</td>\n",
       "      <td>NaN</td>\n",
       "      <td>NaN</td>\n",
       "      <td>NaN</td>\n",
       "      <td>NaN</td>\n",
       "      <td>THROGS NECK BRIDGE</td>\n",
       "      <td>NaN</td>\n",
       "      <td>NaN</td>\n",
       "      <td>0.0</td>\n",
       "      <td>...</td>\n",
       "      <td>Unspecified</td>\n",
       "      <td>NaN</td>\n",
       "      <td>NaN</td>\n",
       "      <td>NaN</td>\n",
       "      <td>4541903</td>\n",
       "      <td>Sedan</td>\n",
       "      <td>Pick-up Truck</td>\n",
       "      <td>NaN</td>\n",
       "      <td>NaN</td>\n",
       "      <td>NaN</td>\n",
       "    </tr>\n",
       "    <tr>\n",
       "      <th>3</th>\n",
       "      <td>2021-09-11 09:35:00</td>\n",
       "      <td>BROOKLYN</td>\n",
       "      <td>11208.0</td>\n",
       "      <td>40.667202</td>\n",
       "      <td>-73.866500</td>\n",
       "      <td>(40.667202, -73.8665)</td>\n",
       "      <td>NaN</td>\n",
       "      <td>NaN</td>\n",
       "      <td>1211      LORING AVENUE</td>\n",
       "      <td>0.0</td>\n",
       "      <td>...</td>\n",
       "      <td>NaN</td>\n",
       "      <td>NaN</td>\n",
       "      <td>NaN</td>\n",
       "      <td>NaN</td>\n",
       "      <td>4456314</td>\n",
       "      <td>Sedan</td>\n",
       "      <td>NaN</td>\n",
       "      <td>NaN</td>\n",
       "      <td>NaN</td>\n",
       "      <td>NaN</td>\n",
       "    </tr>\n",
       "    <tr>\n",
       "      <th>4</th>\n",
       "      <td>2021-12-14 08:13:00</td>\n",
       "      <td>BROOKLYN</td>\n",
       "      <td>11233.0</td>\n",
       "      <td>40.683304</td>\n",
       "      <td>-73.917274</td>\n",
       "      <td>(40.683304, -73.917274)</td>\n",
       "      <td>SARATOGA AVENUE</td>\n",
       "      <td>DECATUR STREET</td>\n",
       "      <td>NaN</td>\n",
       "      <td>0.0</td>\n",
       "      <td>...</td>\n",
       "      <td>NaN</td>\n",
       "      <td>NaN</td>\n",
       "      <td>NaN</td>\n",
       "      <td>NaN</td>\n",
       "      <td>4486609</td>\n",
       "      <td>NaN</td>\n",
       "      <td>NaN</td>\n",
       "      <td>NaN</td>\n",
       "      <td>NaN</td>\n",
       "      <td>NaN</td>\n",
       "    </tr>\n",
       "  </tbody>\n",
       "</table>\n",
       "<p>5 rows × 28 columns</p>\n",
       "</div>"
      ],
      "text/plain": [
       "  CRASH DATE_CRASH TIME   BOROUGH ZIP CODE   LATITUDE  LONGITUDE  \\\n",
       "0   2021-09-11 02:39:00       NaN      NaN        NaN        NaN   \n",
       "1   2022-03-26 11:45:00       NaN      NaN        NaN        NaN   \n",
       "2   2022-06-29 06:55:00       NaN      NaN        NaN        NaN   \n",
       "3   2021-09-11 09:35:00  BROOKLYN  11208.0  40.667202 -73.866500   \n",
       "4   2021-12-14 08:13:00  BROOKLYN  11233.0  40.683304 -73.917274   \n",
       "\n",
       "                  LOCATION           ON STREET NAME CROSS STREET NAME  \\\n",
       "0                      NaN    WHITESTONE EXPRESSWAY         20 AVENUE   \n",
       "1                      NaN  QUEENSBORO BRIDGE UPPER               NaN   \n",
       "2                      NaN       THROGS NECK BRIDGE               NaN   \n",
       "3    (40.667202, -73.8665)                      NaN               NaN   \n",
       "4  (40.683304, -73.917274)          SARATOGA AVENUE    DECATUR STREET   \n",
       "\n",
       "           OFF STREET NAME  NUMBER OF PERSONS INJURED  ...  \\\n",
       "0                      NaN                        2.0  ...   \n",
       "1                      NaN                        1.0  ...   \n",
       "2                      NaN                        0.0  ...   \n",
       "3  1211      LORING AVENUE                        0.0  ...   \n",
       "4                      NaN                        0.0  ...   \n",
       "\n",
       "   CONTRIBUTING FACTOR VEHICLE 2  CONTRIBUTING FACTOR VEHICLE 3  \\\n",
       "0                    Unspecified                            NaN   \n",
       "1                            NaN                            NaN   \n",
       "2                    Unspecified                            NaN   \n",
       "3                            NaN                            NaN   \n",
       "4                            NaN                            NaN   \n",
       "\n",
       "   CONTRIBUTING FACTOR VEHICLE 4  CONTRIBUTING FACTOR VEHICLE 5  COLLISION_ID  \\\n",
       "0                            NaN                            NaN       4455765   \n",
       "1                            NaN                            NaN       4513547   \n",
       "2                            NaN                            NaN       4541903   \n",
       "3                            NaN                            NaN       4456314   \n",
       "4                            NaN                            NaN       4486609   \n",
       "\n",
       "   VEHICLE TYPE CODE 1  VEHICLE TYPE CODE 2 VEHICLE TYPE CODE 3  \\\n",
       "0                Sedan                Sedan                 NaN   \n",
       "1                Sedan                  NaN                 NaN   \n",
       "2                Sedan        Pick-up Truck                 NaN   \n",
       "3                Sedan                  NaN                 NaN   \n",
       "4                  NaN                  NaN                 NaN   \n",
       "\n",
       "  VEHICLE TYPE CODE 4 VEHICLE TYPE CODE 5  \n",
       "0                 NaN                 NaN  \n",
       "1                 NaN                 NaN  \n",
       "2                 NaN                 NaN  \n",
       "3                 NaN                 NaN  \n",
       "4                 NaN                 NaN  \n",
       "\n",
       "[5 rows x 28 columns]"
      ]
     },
     "execution_count": 5,
     "metadata": {},
     "output_type": "execute_result"
    }
   ],
   "source": [
    "# Insert the dataset as data frame\n",
    "df = pd.read_pickle(r\"shared/Motor_Vehicle_Collisions_-_Crashes.pkl\")\n",
    "df.head()"
   ]
  },
  {
   "cell_type": "code",
   "execution_count": 6,
   "id": "ac5afd2d-b348-4630-bddd-e514db918726",
   "metadata": {},
   "outputs": [
    {
     "name": "stdout",
     "output_type": "stream",
     "text": [
      "BOROUGH\n",
      "BROOKLYN         441026\n",
      "QUEENS           372457\n",
      "MANHATTAN        313266\n",
      "BRONX            205345\n",
      "STATEN ISLAND     58297\n",
      "Name: count, dtype: int64\n"
     ]
    }
   ],
   "source": [
    "# Which borough has had the second highest total number of crashes reported since 2012? (Ignore missing values)\n",
    "bor = df['BOROUGH'].value_counts()\n",
    "#time = df['CRASH DATE_CRASH TIME'].value_counts()\n",
    "print(bor)"
   ]
  },
  {
   "cell_type": "code",
   "execution_count": 2,
   "id": "136001fc-bee6-4624-a629-ebe2655a557e",
   "metadata": {},
   "outputs": [
    {
     "data": {
      "text/plain": [
       "('MANHATTAN', 19121.628096767283)"
      ]
     },
     "execution_count": 2,
     "metadata": {},
     "output_type": "execute_result"
    }
   ],
   "source": [
    "# Considering the entire data set since July 2012, which borough has the most crashes for every 100,000 people? (hint: divide the total count of crashes by the population, and multiply by 100,000)\n",
    "populations = {\n",
    "    'BRONX': 1446788,\n",
    "    'BROOKLYN': 2648452,\n",
    "    'MANHATTAN': 1638281,\n",
    "    'QUEENS': 2330295,\n",
    "    'STATEN ISLAND': 487155\n",
    "}\n",
    "\n",
    "crashes = {\n",
    "    'BROOKLYN': 441026,\n",
    "    'QUEENS': 372457,\n",
    "    'MANHATTAN': 313266,\n",
    "    'BRONX': 205345,\n",
    "    'STATEN ISLAND': 58297\n",
    "}\n",
    "\n",
    "crashes_per_100k = {borough: (crashes[borough] / populations[borough]) * 100000 for borough in populations}\n",
    "most_crashes = max(crashes_per_100k, key=crashes_per_100k.get)\n",
    "most_crashes, crashes_per_100k[most_crashes]"
   ]
  },
  {
   "cell_type": "code",
   "execution_count": 7,
   "id": "f3ea6108-90cb-4175-919c-07b47e3eb31c",
   "metadata": {},
   "outputs": [
    {
     "name": "stdout",
     "output_type": "stream",
     "text": [
      "The leading cause of crashes is: Driver Inattention/Distraction\n",
      "The top 5 causes account for 57.76% of total crashes.\n"
     ]
    }
   ],
   "source": [
    "# What is the leading cause of crashes (ignoring 'Unspecified') (use the field 'CONTRIBUTING FACTOR VEHICLE 1')?\n",
    "# the top 5 causes of crashes (ignoring 'Unspecified') account for what proportion of total crashes?\n",
    "df_filtered = df[df['CONTRIBUTING FACTOR VEHICLE 1'] != 'Unspecified']\n",
    "\n",
    "leading_cause = df_filtered['CONTRIBUTING FACTOR VEHICLE 1'].value_counts().idxmax()\n",
    "top_5_causes = df_filtered['CONTRIBUTING FACTOR VEHICLE 1'].value_counts().head(5)\n",
    "total_crashes = len(df_filtered)\n",
    "proportion_top_5 = top_5_causes.sum() / total_crashes\n",
    "\n",
    "print(f\"The leading cause of crashes is: {leading_cause}\")\n",
    "print(f\"The top 5 causes account for {proportion_top_5:.2%} of total crashes.\")"
   ]
  },
  {
   "cell_type": "code",
   "execution_count": 8,
   "id": "180c9808-dee5-41d4-a8ee-7cac86ac3b5b",
   "metadata": {},
   "outputs": [
    {
     "name": "stdout",
     "output_type": "stream",
     "text": [
      "['CRASH DATE_CRASH TIME', 'BOROUGH', 'ZIP CODE', 'LATITUDE', 'LONGITUDE', 'LOCATION', 'ON STREET NAME', 'CROSS STREET NAME', 'OFF STREET NAME', 'NUMBER OF PERSONS INJURED', 'NUMBER OF PERSONS KILLED', 'NUMBER OF PEDESTRIANS INJURED', 'NUMBER OF PEDESTRIANS KILLED', 'NUMBER OF CYCLIST INJURED', 'NUMBER OF CYCLIST KILLED', 'NUMBER OF MOTORIST INJURED', 'NUMBER OF MOTORIST KILLED', 'CONTRIBUTING FACTOR VEHICLE 1', 'CONTRIBUTING FACTOR VEHICLE 2', 'CONTRIBUTING FACTOR VEHICLE 3', 'CONTRIBUTING FACTOR VEHICLE 4', 'CONTRIBUTING FACTOR VEHICLE 5', 'COLLISION_ID', 'VEHICLE TYPE CODE 1', 'VEHICLE TYPE CODE 2', 'VEHICLE TYPE CODE 3', 'VEHICLE TYPE CODE 4', 'VEHICLE TYPE CODE 5']\n"
     ]
    }
   ],
   "source": [
    "# To see the full list of all the categories\n",
    "print(df.columns.tolist())"
   ]
  },
  {
   "cell_type": "code",
   "execution_count": 9,
   "id": "876691cb-fafb-4df7-b3e4-368d7d332f6d",
   "metadata": {},
   "outputs": [
    {
     "name": "stdout",
     "output_type": "stream",
     "text": [
      "The total count of accidents that involved two or more fatalities is: 88\n"
     ]
    }
   ],
   "source": [
    "# Considering the entire data since 2012, what is the total count of accidents that involved two or more fatalities?  (Missing values for the number of persons killed should be assumed to be equal to zero killed.)\n",
    "df['NUMBER OF PERSONS KILLED'] = df['NUMBER OF PERSONS KILLED'].fillna(0)\n",
    "fatal_accidents2 = df[df['NUMBER OF PERSONS KILLED'] >= 2]\n",
    "total_fatal_accidents = len(fatal_accidents2)\n",
    "\n",
    "print(f\"The total count of accidents that involved two or more fatalities is: {total_fatal_accidents}\")"
   ]
  },
  {
   "cell_type": "code",
   "execution_count": 10,
   "id": "207bceaa-40c8-4486-a5d6-55e5fa7cd791",
   "metadata": {},
   "outputs": [
    {
     "name": "stdout",
     "output_type": "stream",
     "text": [
      "On average, for every 1000 accidents, 1.39 have resulted in at least one person dead.\n"
     ]
    }
   ],
   "source": [
    "# On average, for every 1000 accidents, how many have resulted in at least one person dead?\n",
    "fatal_accidents1 = df[df['NUMBER OF PERSONS KILLED'] >= 1]\n",
    "fatal_accidents_proportion = (len(fatal_accidents1) / len(df)) * 1000\n",
    "\n",
    "print(f\"On average, for every 1000 accidents, {fatal_accidents_proportion:.2f} have resulted in at least one person dead.\")"
   ]
  },
  {
   "cell_type": "code",
   "execution_count": 11,
   "id": "0e7fc011-3080-4659-8d99-df8ed273b710",
   "metadata": {},
   "outputs": [
    {
     "name": "stdout",
     "output_type": "stream",
     "text": [
      "The proportion of accidents without a 'CROSS STREET NAME' is 37.44%.\n"
     ]
    }
   ],
   "source": [
    "# What proportion of accidents in the data do not have a Cross Street Name?\n",
    "missing_cross_street_count = df['CROSS STREET NAME'].isnull().sum()\n",
    "total_accidents = len(df)\n",
    "proportion_missing_cross_street = (missing_cross_street_count / total_accidents) * 100\n",
    "\n",
    "print(f\"The proportion of accidents without a 'CROSS STREET NAME' is {proportion_missing_cross_street:.2f}%.\")"
   ]
  },
  {
   "cell_type": "code",
   "execution_count": 13,
   "id": "0369d75e-d6b2-4b7f-a39f-b7802df13cf1",
   "metadata": {},
   "outputs": [
    {
     "name": "stdout",
     "output_type": "stream",
     "text": [
      "The most common combination of vehicles involved in accidents is: ('Sedan', 'Sedan')\n"
     ]
    }
   ],
   "source": [
    "# The fields 'VEHICLE TYPE CODE 1' and 'VEHICLE TYPE CODE 2' represent the first two vehicles involved in the accident. Which combination of vehicles have the most number of accidents?\n",
    "vehicle_combinations = df.groupby(['VEHICLE TYPE CODE 1', 'VEHICLE TYPE CODE 2']).size()\n",
    "most_common_combination = vehicle_combinations.idxmax()\n",
    "\n",
    "print(f\"The most common combination of vehicles involved in accidents is: {most_common_combination}\")"
   ]
  },
  {
   "cell_type": "code",
   "execution_count": 14,
   "id": "1527aa44-92be-4ba6-a4a2-026ed16de4bb",
   "metadata": {},
   "outputs": [
    {
     "name": "stdout",
     "output_type": "stream",
     "text": [
      "Proportion of alcohol-related crashes that resulted in a fatality: 0.0047\n"
     ]
    }
   ],
   "source": [
    "# Among crashes where the contributing factor (CONTRIBUTING FACTOR VEHICLE 1) was alcohol involvement, what proportion resulted in a fatality?\n",
    "alcohol_related = df[df['CONTRIBUTING FACTOR VEHICLE 1'] == 'Alcohol Involvement']\n",
    "fatal_accidents = alcohol_related[alcohol_related['NUMBER OF PERSONS KILLED'] > 0]\n",
    "proportion_fatal = len(fatal_accidents) / len(alcohol_related)\n",
    "\n",
    "print(f\"Proportion of alcohol-related crashes that resulted in a fatality: {proportion_fatal:.4f}\")"
   ]
  },
  {
   "cell_type": "code",
   "execution_count": 15,
   "id": "8b41b2b8-13ae-4f28-b1b6-ccd1e92b1f9f",
   "metadata": {},
   "outputs": [
    {
     "name": "stdout",
     "output_type": "stream",
     "text": [
      "The proportion of crashes occur during the evening rush hour: 0.20514010935243243\n"
     ]
    }
   ],
   "source": [
    "# What proportion of crashes occur during the evening rush hour, defined as starting at 4 PM, and before 7 PM?\n",
    "Fourseven = df[(df['CRASH DATE_CRASH TIME'].dt.hour >= 16) & (df['CRASH DATE_CRASH TIME'].dt.hour < 19)]\n",
    "proportion_crash = len(Fourseven) / len(df)\n",
    "\n",
    "print(f\"The proportion of crashes occur during the evening rush hour: {proportion_crash}\")"
   ]
  },
  {
   "cell_type": "code",
   "execution_count": 36,
   "id": "b522eb8b-1fcd-4299-a688-bb14b3dc49b9",
   "metadata": {},
   "outputs": [
    {
     "name": "stdout",
     "output_type": "stream",
     "text": [
      "Proportion of motorcycle crashes that resulted in injuries but no fatalities: 55.6879\n"
     ]
    }
   ],
   "source": [
    "# Among crashes involving motorcycles, what proportion resulted in injuries but no fatalities?\n",
    "motorcycle_crashes = df[(df['VEHICLE TYPE CODE 1'].str.contains('MOTORCYCLE', case=False, na=False)) |\n",
    "                        (df['VEHICLE TYPE CODE 2'].str.contains('MOTORCYCLE', case=False, na=False))]\n",
    "\n",
    "# Make sure 'NUMBER OF PERSONS INJURED' and 'NUMBER OF PERSONS KILLED' are treated as integers, fill missing values with 0\n",
    "motorcycle_crashes.loc[:, 'NUMBER OF PERSONS INJURED'] = motorcycle_crashes['NUMBER OF PERSONS INJURED'].fillna(0)\n",
    "motorcycle_crashes.loc[:, 'NUMBER OF PERSONS KILLED'] = motorcycle_crashes['NUMBER OF PERSONS KILLED'].fillna(0)\n",
    "\n",
    "injuries_no_fatalities = motorcycle_crashes[\n",
    "    (motorcycle_crashes['NUMBER OF PERSONS INJURED'] > 0) &\n",
    "    (motorcycle_crashes['NUMBER OF PERSONS KILLED'] == 0)]\n",
    "proportion = (len(injuries_no_fatalities) / len(motorcycle_crashes))\n",
    "\n",
    "print(f\"Proportion of motorcycle crashes that resulted in injuries but no fatalities: {proportion:.4f}\")"
   ]
  },
  {
   "cell_type": "code",
   "execution_count": 39,
   "id": "bda5b09a-c9ea-4bc1-9b92-39a253875331",
   "metadata": {},
   "outputs": [
    {
     "data": {
      "text/plain": [
       "50.04565018912221"
      ]
     },
     "execution_count": 39,
     "metadata": {},
     "output_type": "execute_result"
    }
   ],
   "source": [
    "motorcycle_crashes = df[(df['VEHICLE TYPE CODE 1'].str.contains('MOTORCYCLE', na=False)) |\n",
    "                        (df['VEHICLE TYPE CODE 2'].str.contains('MOTORCYCLE', na=False))]\n",
    "\n",
    "motorcycle_crashes.loc[:, 'NUMBER OF PERSONS INJURED'] = motorcycle_crashes['NUMBER OF PERSONS INJURED'].fillna(0)\n",
    "motorcycle_crashes.loc[:, 'NUMBER OF PERSONS KILLED'] = motorcycle_crashes['NUMBER OF PERSONS KILLED'].fillna(0)\n",
    "\n",
    "injuries_no_fatalities = motorcycle_crashes[(motorcycle_crashes['NUMBER OF PERSONS INJURED'] > 0) & \n",
    "                                            (motorcycle_crashes['NUMBER OF PERSONS KILLED'] == 0)].shape[0]\n",
    "\n",
    "total_motorcycle_crashes = motorcycle_crashes.shape[0]\n",
    "\n",
    "proportion_injuries_no_fatalities = (injuries_no_fatalities / total_motorcycle_crashes) * 100\n",
    "proportion_injuries_no_fatalities"
   ]
  },
  {
   "cell_type": "code",
   "execution_count": 17,
   "id": "98c5c6f6-7ed9-4ee1-81c1-dc705f27cdc9",
   "metadata": {},
   "outputs": [
    {
     "name": "stdout",
     "output_type": "stream",
     "text": [
      "Number of crashes involving bicycles: 19108\n"
     ]
    }
   ],
   "source": [
    "# How many crashes involved bicycles as one of the vehicles?\n",
    "bicycle_crashes = df[(df['VEHICLE TYPE CODE 1'].str.contains('BICYCLE', case=False, na=False)) |\n",
    "                     (df['VEHICLE TYPE CODE 2'].str.contains('BICYCLE', case=False, na=False))]\n",
    "num_bicycle_crashes = len(bicycle_crashes)\n",
    "\n",
    "print(f\"Number of crashes involving bicycles: {num_bicycle_crashes}\")"
   ]
  }
 ],
 "metadata": {
  "kernelspec": {
   "display_name": "Python [conda env:mggy8413v2]",
   "language": "python",
   "name": "conda-env-mggy8413v2-py"
  },
  "language_info": {
   "codemirror_mode": {
    "name": "ipython",
    "version": 3
   },
   "file_extension": ".py",
   "mimetype": "text/x-python",
   "name": "python",
   "nbconvert_exporter": "python",
   "pygments_lexer": "ipython3",
   "version": "3.11.7"
  }
 },
 "nbformat": 4,
 "nbformat_minor": 5
}
